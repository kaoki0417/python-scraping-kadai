{
  "nbformat": 4,
  "nbformat_minor": 0,
  "metadata": {
    "colab": {
      "provenance": [],
      "authorship_tag": "ABX9TyMTqEarvSSPkHLBkklS4s+B",
      "include_colab_link": true
    },
    "kernelspec": {
      "name": "python3",
      "display_name": "Python 3"
    },
    "language_info": {
      "name": "python"
    }
  },
  "cells": [
    {
      "cell_type": "markdown",
      "metadata": {
        "id": "view-in-github",
        "colab_type": "text"
      },
      "source": [
        "<a href=\"https://colab.research.google.com/github/kaoki0417/python-scraping-kadai/blob/main/kadai_001/python_scraping_kadai1.ipynb\" target=\"_parent\"><img src=\"https://colab.research.google.com/assets/colab-badge.svg\" alt=\"Open In Colab\"/></a>"
      ]
    },
    {
      "cell_type": "code",
      "execution_count": 1,
      "metadata": {
        "colab": {
          "base_uri": "https://localhost:8080/"
        },
        "id": "OU7K8JKcqwbr",
        "outputId": "b53eb1b6-442a-464b-9bb7-e3b25ca8743d"
      },
      "outputs": [
        {
          "output_type": "stream",
          "name": "stdout",
          "text": [
            "Requirement already satisfied: requests in /usr/local/lib/python3.10/dist-packages (2.31.0)\n",
            "Requirement already satisfied: beautifulsoup4 in /usr/local/lib/python3.10/dist-packages (4.11.2)\n",
            "Requirement already satisfied: charset-normalizer<4,>=2 in /usr/local/lib/python3.10/dist-packages (from requests) (3.3.0)\n",
            "Requirement already satisfied: idna<4,>=2.5 in /usr/local/lib/python3.10/dist-packages (from requests) (3.4)\n",
            "Requirement already satisfied: urllib3<3,>=1.21.1 in /usr/local/lib/python3.10/dist-packages (from requests) (2.0.6)\n",
            "Requirement already satisfied: certifi>=2017.4.17 in /usr/local/lib/python3.10/dist-packages (from requests) (2023.7.22)\n",
            "Requirement already satisfied: soupsieve>1.2 in /usr/local/lib/python3.10/dist-packages (from beautifulsoup4) (2.5)\n"
          ]
        }
      ],
      "source": [
        "!pip install requests beautifulsoup4"
      ]
    },
    {
      "cell_type": "code",
      "source": [
        "import requests\n",
        "from bs4 import BeautifulSoup"
      ],
      "metadata": {
        "id": "uahYp4Qxq6tT"
      },
      "execution_count": 2,
      "outputs": []
    },
    {
      "cell_type": "code",
      "source": [
        "url = 'https://news.yahoo.co.jp/articles/18e887566c44c13ebcf942b0541365f8edb22d61'"
      ],
      "metadata": {
        "id": "7pla2rOzrUAt"
      },
      "execution_count": 3,
      "outputs": []
    },
    {
      "cell_type": "code",
      "source": [
        "response = requests.get(url)"
      ],
      "metadata": {
        "id": "dFXeQWHgrizu"
      },
      "execution_count": 4,
      "outputs": []
    },
    {
      "cell_type": "code",
      "source": [
        "soup = BeautifulSoup(response.text, 'html.parser')"
      ],
      "metadata": {
        "id": "3L0QNo7lrqBi"
      },
      "execution_count": 5,
      "outputs": []
    },
    {
      "cell_type": "code",
      "source": [
        "article_element = soup.select_one('#uamods > div > div > p')"
      ],
      "metadata": {
        "id": "_Uyb6D_jsK6r"
      },
      "execution_count": 17,
      "outputs": []
    },
    {
      "cell_type": "code",
      "source": [
        "article_text = article_element.text"
      ],
      "metadata": {
        "id": "JHcC23Tmt0lP"
      },
      "execution_count": 18,
      "outputs": []
    },
    {
      "cell_type": "code",
      "source": [
        "print(article_text)"
      ],
      "metadata": {
        "colab": {
          "base_uri": "https://localhost:8080/"
        },
        "id": "mbVAnL-FuFLJ",
        "outputId": "3c6defe7-6931-4c0c-97bf-eeda5be32877"
      },
      "execution_count": 19,
      "outputs": [
        {
          "output_type": "stream",
          "name": "stdout",
          "text": [
            "スティーヴ・ローゼンバーグ、BBCロシア編集長\n",
            "\n",
            "ロシアのウラジーミル・プーチン大統領について、まるでボンド映画の巨悪のようなイメージを、私たちはついつい抱きたくなる。山奥の秘密の隠れ家には巨大な指令パネルがあり、彼はその前に鎮座して、世界中に混乱を巻き起こすのだ――というような。\n",
            "\n",
            "ボタンを一つ押せば、バルカン半島が不安定になる。別のボタンを押せば、中東が爆発する、などなど。\n",
            "\n",
            "そう思いたいのはやまやまだが……おそらく、不正確だ。クレムリン（ロシア大統領府）を率いる彼の、世界的な影響力を過大評価している。\n",
            "\n",
            "確かにロシアは、パレスチナ自治区ガザ地区を実効支配するイスラム組織ハマスと結びつきがあるし、イランとは緊密な関係を築いている。アメリカによると、ロシアとイランの両政府は今では、全面的な軍事同盟国なのだという。\n",
            "\n",
            "だからといって、ハマスによるイスラエル攻撃について、ロシア政府が直接関与していたことにはならない。事前に承知していたことにも、ならない。\n",
            "\n",
            "「ロシアが何かしら関与していたとは、我々は思っていない」。イスラエルの駐モスクワ大使、アレクサデル・ベン・ズヴィ氏はこのほど、ロシア紙コメルサントに対してこう述べた。ハマスがイスラエルで繰り広げた残虐行為に、ロシアが何か関わっていたなどとほのめかすのは、「まったくナンセンスだ」とも話した。\n",
            "\n",
            "米ジェームズ・マーティン不拡散研究センターでロシアと中東を専門とするハンナ・ノッテ博士（在ベルリン）は、「ロシアがハマスに直接、武器を提供したとか、ロシアがハマス工作員に軍事訓練を提供したとか、そういう証拠はまったく目にしていない」と話す。\n",
            "\n",
            "「確かにロシアは、長年にわたりハマスとかかわってきた。ロシアは一度も、ハマスをテロ組織と呼んでいない。ハマスの代表は昨年と今年、モスクワを訪れている」\n",
            "\n",
            "「しかしだからといって、ロシアが多岐にわたりハマスを軍事的に支援しているとは類推できない。ロシア製の兵器システムがガザ地区に入っていることは、確認されている。しかしそれはおそらく、（エジプトの）シナイ半島経由で、かつイランの援助があってのことだろう」\n",
            "\n",
            "つまり、プーチン大統領が「中東戦争」とラベルの付いたボタンを押したわけではないということだ。\n",
            "\n",
            "しかし、この戦争から利益を得るつもりでいるのではないか？　\n",
            "\n",
            "もちろんだ。どうやるのか、説明しよう。\n",
            "\n",
            "■ウクライナから世間の注目が外れる\n",
            "\n",
            "中東における暴力拡大で、各国の国際報道はそのニュース一色になった。イスラエル発の劇的な記事タイトルが、ロシアがウクライナで続ける戦争から世間の目をそらすだろうと、ロシア政府は期待している。\n",
            "\n",
            "ここで大事なのはただ単に、ニュースの流れを変えることだけではない。ロシア政府は中東情勢の結果として、西側がウクライナに提供するはずだった軍事援助がイスラエルへ振り向けられることを期待している。\n",
            "\n",
            "「この危機は、（ウクライナでの）特別軍事作戦の展開に直接影響すると思う」。ロシアの外交官、コンスタンティン・ガリロフ氏は政府系新聞イズヴェスチヤにこう話した。\n",
            "\n",
            "「ウクライナを支援する各国は、イスラエルでの紛争に気が移ってしまうはずだ。西側がウクライナを見放すという意味ではない。しかし、ウクライナに行く軍事支援の量は減り（中略）もちろん軍事作戦は一気にロシアに有利になるかもしれない」\n",
            "\n",
            "ロシアは、自分に都合よく解釈している？　　そうかもしれない。\n",
            "\n",
            "「ウクライナを支援すると同様に、我々はイスラエルを支えることができるし、実際にそうする」。アメリカのロイド・オースティン国防長官は13日、北大西洋条約機構（NATO）加盟国の国防相会議でこう発言した。\n",
            "\n",
            "けれども、中東での紛争が長引けば、2つの戦争で2つの同盟国を同時に支え続けることが果たしてできるのか、アメリカの能力が試されることになる。\n",
            "\n",
            "■仲介者ロシア？　\n",
            "\n",
            "ロシアは、平和を仲介するいわゆる「ピース・メイカー」の役割を自ら担うことで、中東での存在感を拡大しようとしている。\n",
            "\n",
            "かつてロシアは中東での紛争終結に向けた国際的取り組みに参加し、その役割を請け負っていた。\n",
            "\n",
            "「ロシアは（この紛争で）役割を果たすことができるし、そうする」。ロシア大統領府のドミトリー・ペスコフ報道官はこう述べた。「我々は紛争の双方と、連絡を取り続けている」とも話した。\n",
            "\n",
            "イラクのハンマド・スダニ首相は10日、モスクワを訪れてプーチン氏と会談し、中東における「本格的な停戦のイニシアチブを発表」するよう求めた。\n",
            "\n",
            "ロシアが平和の使者に？　　それはなかなか難しそうだ。\n",
            "\n",
            "そもそもロシアは、隣国に全面的な侵略戦争を仕掛けた国だ。開戦から間もなく1年8カ月となるこの戦争で、ロシアがウクライナにもたらした死と破壊の規模は、世界に衝撃を与え続けている。\n",
            "\n",
            "しかも、平和の実現に自分たちが「役割を果たせるし、そうする」と宣言したところで、紛争の当事者たちがロシアを仲介者として受け入れる保証はない。\n",
            "\n",
            "ロシアはかねて中東に関心を抱いてきた。イスラエルがアメリカと緊密な関係を築く一方で、ソヴィエト連邦はアラブ寄りの姿勢をとった。旧ソ連は長年にわたり、国を挙げて反ユダヤ主義を推進し、それがソ連での暮らしの一部だった。\n",
            "\n",
            "ソヴィエト「帝国」の崩壊後、ロシアとイスラエルの関係は改善した。旧ソ連を構成した各地の共和国から、100万人以上のユダヤ系住民がイスラエルへ移住したことも、これに関係している。\n",
            "\n",
            "最近ではプーチン氏率いるロシアは、イランをはじめ、イスラエルと敵対する諸国と接近した。これがロシアとイスラエルの関係悪化につながっている。\n",
            "\n",
            "■アメリカを非難\n",
            "\n",
            "クレムリンはこの機に乗じて、ただでさえ普段からしきりにやっていることを、さらに大々的に展開できそうだと察している。つまり、アメリカを非難することだ。\n",
            "\n",
            "ハマスのイスラエル攻撃以降、プーチン氏が繰り返す主な言い分は、「これはアメリカの中東政策が破綻しているという一例だ」というものだ。\n",
            "\n",
            "ロシアは「アメリカの覇権主義」と呼ぶものを攻撃するのが常で、今回もこのパターンに当てはまる。\n",
            "\n",
            "そして、「中東で一番の悪者はアメリカ」と主張し続けることで、ロシア政府はアメリカのイメージを損ないつつ、中東における自分たちの位置を向上させようとする。これがロシア流のやり方だ。\n",
            "\n",
            "私はこれまで、今の中東情勢がロシアにとってどう有利に働くかを検討してきた。しかし、ロシアにとって危険もある。\n",
            "\n",
            "「慎重に調整された不安定。これこそロシアにとってベストの状態」だと、前出のノッテ博士は言う。\n",
            "\n",
            "「この危機でウクライナから世界の注目が離れるなら、アメリカの国内政治におけるイスラエルの重要性を思えばそのリスクは本物だが、そうなれば確かに、ロシアは短期的には現状から利益を得ることになる」\n",
            "\n",
            "しかし、ハマスに武器と資金を提供するイランを含め、中東の広範囲が現在の戦争に巻き込まれるようなことになれば、それはロシアの利益につながらないとも、ノッテ博士は言う。\n",
            "\n",
            "「ロシアは、イスラエルとイランの間の全面戦争を望んでいない。もし事態がその方向に進み、アメリカがイスラエルを徹底的に支援すると明らかになれば、ロシアは今以上にイラン寄りに進むしか選ぶ道はないと判断するだろう。しかし、それがロシアの本心なのかどうか、はっきりしない」\n",
            "\n",
            "「プーチン氏は今なお、自分とイスラエルとのつながりを重視していると私は思う。味方する側を選ばなくてはならないような外交状況に移ることを、ロシアは望んでいないと思う。だが、この紛争が悪化すればするほど、ロシアに対する圧力は高まるかもしれない」\n",
            "\n",
            "（英語記事　Putin is ready to take advantage of Israel-Gaza war, says Steve Rosenberg）\n"
          ]
        }
      ]
    }
  ]
}